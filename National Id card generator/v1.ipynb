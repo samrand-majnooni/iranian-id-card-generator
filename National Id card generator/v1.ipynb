{
 "cells": [
  {
   "cell_type": "code",
   "execution_count": 179,
   "id": "5e838704",
   "metadata": {},
   "outputs": [],
   "source": [
    "import win32com.client\n",
    "import os \n"
   ]
  },
  {
   "cell_type": "code",
   "execution_count": 180,
   "id": "ed21a927",
   "metadata": {},
   "outputs": [],
   "source": [
    "import codemelli"
   ]
  },
  {
   "cell_type": "code",
   "execution_count": 181,
   "id": "e1bd448e",
   "metadata": {},
   "outputs": [],
   "source": [
    "def codeMeliGenerator(a):\n",
    "    x=[]\n",
    "    for i in range(a):\n",
    "        x.append(codemelli.generator())\n",
    "      \n",
    "    return(x)\n",
    "                      "
   ]
  },
  {
   "cell_type": "code",
   "execution_count": 182,
   "id": "65fdb19f",
   "metadata": {},
   "outputs": [
    {
     "name": "stdout",
     "output_type": "stream",
     "text": [
      "['7062318051', '4474820428', '6416208067', '6551752594', '0455573621', '6678228308', '5231477771', '1135643423', '4494126748', '2790297916']\n"
     ]
    }
   ],
   "source": [
    "listOfText=codeMeliGenerator(10)\n",
    "print(listOfText)"
   ]
  },
  {
   "cell_type": "code",
   "execution_count": 183,
   "id": "8093005f",
   "metadata": {},
   "outputs": [],
   "source": [
    "psApp=win32com.client.Dispatch(\"photoshop.Application\")"
   ]
  },
  {
   "cell_type": "code",
   "execution_count": 184,
   "id": "0e991415",
   "metadata": {},
   "outputs": [
    {
     "data": {
      "text/plain": [
       "<COMObject Open>"
      ]
     },
     "execution_count": 184,
     "metadata": {},
     "output_type": "execute_result"
    }
   ],
   "source": [
    "psApp.Open(r\"C:\\Users\\samrand\\Downloads\\Compressed\\IdCard\\IdCard\\IdCard.psd\")"
   ]
  },
  {
   "cell_type": "code",
   "execution_count": 185,
   "id": "ab24aacc",
   "metadata": {},
   "outputs": [],
   "source": [
    "doc=psApp.Application.ActiveDocument"
   ]
  },
  {
   "cell_type": "code",
   "execution_count": 192,
   "id": "b50a1a83",
   "metadata": {},
   "outputs": [],
   "source": [
    "for text in listOfText:\n",
    "    codeMeliLayer=doc.ArtLayers[\"codemeli\"]\n",
    "    textOfCodeMeli=codeMeliLayer.TextItem\n",
    "    textOfCodeMeli.contents=text\n",
    "    textOfCodeMeli.size=12\n",
    "    \n",
    "    option=win32com.client.Dispatch(\"photoshop.ExportOptionsSaveForWeb\")\n",
    "    \n",
    "    option.format=6\n",
    "    option.Quality=100\n",
    "\n",
    "    jpgFile=r\"C:\\Users\\samrand\\Downloads\\Compressed\\IdCard\\IdCard\\export\\%s.jpg\"%(text)\n",
    "    doc.Export(ExportIn=jpgFile,ExportAs=2,Options=option)\n",
    "    "
   ]
  },
  {
   "cell_type": "code",
   "execution_count": null,
   "id": "4f190a54",
   "metadata": {},
   "outputs": [],
   "source": []
  },
  {
   "cell_type": "code",
   "execution_count": null,
   "id": "087779cb",
   "metadata": {},
   "outputs": [],
   "source": []
  }
 ],
 "metadata": {
  "kernelspec": {
   "display_name": "Python 3 (ipykernel)",
   "language": "python",
   "name": "python3"
  },
  "language_info": {
   "codemirror_mode": {
    "name": "ipython",
    "version": 3
   },
   "file_extension": ".py",
   "mimetype": "text/x-python",
   "name": "python",
   "nbconvert_exporter": "python",
   "pygments_lexer": "ipython3",
   "version": "3.9.7"
  }
 },
 "nbformat": 4,
 "nbformat_minor": 5
}
